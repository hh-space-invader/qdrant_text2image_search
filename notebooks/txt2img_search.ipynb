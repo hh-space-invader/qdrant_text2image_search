{
 "cells": [
  {
   "cell_type": "code",
   "execution_count": 32,
   "metadata": {},
   "outputs": [
    {
     "name": "stderr",
     "output_type": "stream",
     "text": [
      "/tmp/ipykernel_28077/4086763769.py:20: DeprecationWarning: \n",
      "Pyarrow will become a required dependency of pandas in the next major release of pandas (pandas 3.0),\n",
      "(to allow more performant data types, such as the Arrow string type, and better interoperability with other libraries)\n",
      "but was not found to be installed on your system.\n",
      "If this would cause problems for you,\n",
      "please provide us feedback at https://github.com/pandas-dev/pandas/issues/54466\n",
      "        \n",
      "  import pandas as pd\n"
     ]
    }
   ],
   "source": [
    "# for file/folder operations (system calls)\n",
    "import os, shutil, glob\n",
    "# to download dataset and extract it\n",
    "import zipfile, requests\n",
    "# to open/show images\n",
    "from PIL import Image\n",
    "# to show stacked images\n",
    "import numpy as np\n",
    "# for models\n",
    "from transformers import CLIPProcessor, TFCLIPModel\n",
    "# for vector db\n",
    "from qdrant_client import QdrantClient\n",
    "from qdrant_client.http import models\n",
    "# for progress bar\n",
    "from tqdm import tqdm\n",
    "# for easier manupilating embeddings/ids\n",
    "import pandas as pd"
   ]
  },
  {
   "cell_type": "code",
   "execution_count": 36,
   "metadata": {},
   "outputs": [],
   "source": [
    "# Zalando Viton-HD dataset\n",
    "data_url = \"https://www.dropbox.com/s/10bfat0kg4si1bu/zalando-hd-resized.zip\""
   ]
  },
  {
   "cell_type": "code",
   "execution_count": 13,
   "metadata": {},
   "outputs": [],
   "source": [
    "# if the zip dataset not exist on disk\n",
    "if not os.path.exists(\"../data/raw/zalando-hd-resized.zip\"):\n",
    "    # go to dropbox\n",
    "    response = requests.get(data_url, stream=True)\n",
    "    # save zip to disk\n",
    "    with open(\"../data/raw/zalando-hd-resized.zip\", 'wb') as buff:\n",
    "        for chunk in response.iter_content(128):\n",
    "            buff.write(chunk)"
   ]
  },
  {
   "cell_type": "code",
   "execution_count": 14,
   "metadata": {},
   "outputs": [],
   "source": [
    "# extract data\n",
    "with zipfile.ZipFile(file=\"../data/raw/zalando-hd-resized.zip\", mode=\"r\") as buff:\n",
    "    buff.extractall(path=\"../data/raw/zalando-hd-resized\")"
   ]
  },
  {
   "cell_type": "markdown",
   "metadata": {},
   "source": [
    "* We are only interested with cloth data."
   ]
  },
  {
   "cell_type": "code",
   "execution_count": 21,
   "metadata": {},
   "outputs": [
    {
     "data": {
      "text/plain": [
       "'../data/raw/'"
      ]
     },
     "execution_count": 21,
     "metadata": {},
     "output_type": "execute_result"
    }
   ],
   "source": [
    "# copy contents of cloth folder to raw\n",
    "shutil.copytree(\n",
    "    src=\"../data/raw/zalando-hd-resized/train/cloth/\",\n",
    "    dst=\"../data/raw/\",\n",
    "    dirs_exist_ok=True)"
   ]
  },
  {
   "cell_type": "code",
   "execution_count": 22,
   "metadata": {},
   "outputs": [],
   "source": [
    "# delete unneccesary folder/zip \n",
    "shutil.rmtree(path=\"../data/raw/zalando-hd-resized\")\n",
    "os.remove(path=\"../data/raw/zalando-hd-resized.zip\")"
   ]
  },
  {
   "cell_type": "code",
   "execution_count": 20,
   "metadata": {},
   "outputs": [],
   "source": [
    "# show some images\n",
    "all_images = glob.glob(pathname=\"../data/raw/*.jpg\")\n",
    "\n",
    "# read 5 images from disk\n",
    "images = [Image.open(fp=img, mode=\"r\") for img in all_images[:5]]\n",
    "\n",
    "# stack resized images (to be more conveniet to show)\n",
    "images = np.hstack([image.resize(size=(128,256)) for image in images])\n",
    "\n",
    "# show images\n",
    "images = Image.fromarray(images)\n",
    "images.show()"
   ]
  },
  {
   "cell_type": "code",
   "execution_count": 21,
   "metadata": {},
   "outputs": [
    {
     "name": "stderr",
     "output_type": "stream",
     "text": [
      "All model checkpoint layers were used when initializing TFCLIPModel.\n",
      "\n",
      "All the layers of TFCLIPModel were initialized from the model checkpoint at openai/clip-vit-base-patch32.\n",
      "If your task is similar to the task the model of the checkpoint was trained on, you can already use TFCLIPModel for predictions without further training.\n"
     ]
    }
   ],
   "source": [
    "# define clip data processor\n",
    "processor = CLIPProcessor.from_pretrained(\"openai/clip-vit-base-patch32\")\n",
    "\n",
    "# define clip model\n",
    "model = TFCLIPModel.from_pretrained(\"openai/clip-vit-base-patch32\")"
   ]
  },
  {
   "cell_type": "markdown",
   "metadata": {},
   "source": [
    "\n",
    "* lets try to embed one image and see results\n"
   ]
  },
  {
   "cell_type": "code",
   "execution_count": 7,
   "metadata": {},
   "outputs": [
    {
     "name": "stdout",
     "output_type": "stream",
     "text": [
      "input image shape:  (1, 3, 224, 224)\n",
      "image embeddings shape:  (1, 512)\n",
      "tf.Tensor(\n",
      "[[ 9.05680805e-02  3.27430889e-02  2.98265144e-02  3.44645500e-01\n",
      "   1.63984448e-01  4.14204538e-01 -8.47207606e-02  2.71041065e-01\n",
      "   8.74725163e-01  1.24552451e-01  1.37790427e-01  5.85126579e-02\n",
      "  -1.57511845e-01 -1.94499381e-02 -1.74491592e-02  1.73226237e-01\n",
      "  -4.67269570e-02  1.56918913e-03  5.43844402e-02 -8.73053819e-02\n",
      "  -5.11746764e-01 -8.17486495e-02  3.86942416e-01 -3.77125479e-02\n",
      "  -8.99185091e-02  3.09481561e-01 -2.91582614e-01 -3.56023937e-01\n",
      "  -2.10167974e-01 -7.08732724e-01  2.32437253e-03  1.57950222e-02\n",
      "  -4.41687047e-01 -1.20023586e-01 -4.26208675e-02  1.16930656e-01\n",
      "  -2.67171800e-01  2.11749911e-01  5.43847606e-02  1.82864380e+00\n",
      "   3.54630172e-01  1.00964427e-01 -2.05303475e-01 -3.62512618e-01\n",
      "   1.09685026e-01 -1.58175969e+00  8.66881907e-02  5.97256720e-02\n",
      "   1.75857514e-01 -2.68373072e-01  7.62155831e-01 -1.60100520e-01\n",
      "  -1.66634709e-01 -3.17256659e-01 -6.55568242e-01  5.05496264e-01\n",
      "   5.30093350e-02 -4.61110063e-02 -2.94982828e-03  5.53194702e-01\n",
      "   5.49473986e-02 -3.51232827e-01 -1.16780311e-01 -1.15497485e-02\n",
      "  -1.81177601e-01  1.44535705e-01  1.71098441e-01 -7.36913800e-01\n",
      "  -3.28086674e-01 -1.39161736e-01 -2.38807917e-01 -3.31474580e-02\n",
      "  -2.98464686e-01 -5.61753869e-01 -3.32061738e-01 -9.99605283e-02\n",
      "   6.56115264e-02 -2.73046076e-01 -7.55534098e-02  2.86772132e-01\n",
      "  -3.79553050e-01 -6.90922439e-01 -3.90722990e-01 -1.15502045e-01\n",
      "   4.77272689e-01  7.16568679e-02 -1.25629440e-01 -1.53635100e-01\n",
      "   6.22059405e-03 -1.77800134e-01  4.59072828e-01  1.55504629e-01\n",
      "  -6.68979216e+00  5.45149684e-01  1.14693880e-01  5.57978511e-01\n",
      "  -3.25759947e-02 -5.83970547e-01 -2.23890468e-01  6.87776089e-01\n",
      "  -2.42995694e-01 -4.66867268e-01  3.47612351e-01  1.91510916e-01\n",
      "  -2.21897975e-01  2.52730399e-02  5.65982938e-01 -1.23506039e-01\n",
      "   1.51616201e-01  3.74597088e-02 -2.04541534e-01  3.89529228e-01\n",
      "  -1.04156695e-01 -1.77669734e-01  1.64726585e-01  1.70490235e-01\n",
      "  -4.89340216e-01  3.56531143e-01 -7.71866515e-02  5.48464298e-01\n",
      "   4.11283523e-01 -1.14623532e-01 -2.59537429e-01 -4.14874554e-01\n",
      "  -3.37951481e-01 -2.94945091e-01 -3.64610732e-01  2.05882996e-01\n",
      "   2.18038633e-01 -5.83807267e-02  2.53283471e-01  4.70280707e-01\n",
      "  -8.21652859e-02  8.27760518e-01  3.35474104e-01  2.74366707e-01\n",
      "  -1.15426682e-01  1.83289006e-01  4.53260615e-02 -5.50602525e-02\n",
      "   1.88738972e-01 -2.03338057e-01 -1.26942873e-01 -2.69234553e-03\n",
      "  -7.27253735e-01 -4.36160713e-03 -2.29769260e-01  6.06060147e-01\n",
      "   4.47310433e-02  4.10030112e-02 -2.35379301e-02 -7.22248405e-02\n",
      "   9.13699806e-01 -6.44767378e-03  4.33920659e-02  4.37200636e-01\n",
      "   3.85214597e-01  4.60941255e-01  1.46215305e-01  2.36626312e-01\n",
      "  -3.47984731e-02  1.90913603e-01  5.27123570e-01  3.57651472e-01\n",
      "  -1.17214680e-01 -4.51794118e-01  2.87030011e-01 -1.88211039e-01\n",
      "  -1.36588529e-01 -3.16695929e-01 -2.54303038e-01  2.00512469e-01\n",
      "   2.38002032e-01 -2.48985425e-01  1.55679703e-01 -1.36445284e-01\n",
      "   2.89918810e-01 -2.37210125e-01 -4.39039320e-01 -3.35629612e-01\n",
      "   1.06602132e+00  2.31229141e-01  1.37940899e-01 -2.65637785e-01\n",
      "  -2.92228639e-01  2.57931232e-01  1.62646454e-02 -1.04485020e-01\n",
      "  -3.27056825e-01 -1.15060784e-01  7.90567249e-02  3.60598639e-02\n",
      "   2.82221556e-01  3.78690302e-01  4.33822244e-01 -7.19154477e-02\n",
      "   5.59967518e-01  2.73057073e-03  2.96932697e-01 -8.50657672e-02\n",
      "  -2.11723577e-02 -2.08959639e-01  8.37825164e-02  2.39549026e-01\n",
      "  -1.25255454e-02 -1.01166032e-01 -6.30462408e-01 -4.71841276e-01\n",
      "  -2.50642508e-01  5.16979694e-01 -1.39170796e-01  1.06978595e+00\n",
      "   5.45069933e-01 -2.85014868e-01 -5.78913689e-01 -6.33785129e-02\n",
      "  -1.75010525e-02  3.49648088e-01  5.37492514e-01 -1.77931964e-01\n",
      "  -3.18572730e-01 -5.56549251e-01 -3.33739966e-01 -1.15682930e-03\n",
      "   4.31780100e-01 -1.68207049e-01  3.33438456e-01 -2.10132062e-01\n",
      "  -2.44761318e-01  9.10515487e-02 -7.40262913e-03 -2.63276905e-01\n",
      "  -2.29207560e-01  6.52569905e-02 -4.24690805e-02 -3.75498652e-01\n",
      "   2.19731122e-01 -2.39381909e-01  7.50063732e-02  2.16155171e-01\n",
      "   1.34459317e-01  4.48339075e-01  4.97092213e-03 -6.00172162e-01\n",
      "   9.79416594e-02 -5.86683989e-01 -2.93945611e-01  3.00687462e-01\n",
      "   9.87034738e-02 -1.35905594e-01 -1.43151492e-01 -1.66226476e-01\n",
      "  -2.21597984e-01 -2.47469358e-02  2.02550143e-02  6.29549265e-01\n",
      "  -3.81314516e-01  1.75663456e-01 -1.05037677e+00  1.65111229e-01\n",
      "   2.83717871e-01 -9.19551328e-02 -1.94736466e-01 -3.09987962e-01\n",
      "   2.72534370e-01 -1.08439855e-01 -1.95595652e-01  2.06019953e-01\n",
      "   3.83681387e-01 -6.28338456e-02 -1.96810484e-01  4.50177789e-01\n",
      "   6.25089347e-01 -1.77167684e-01  7.21644089e-02 -7.41587207e-03\n",
      "  -3.66678178e-01 -2.00290605e-01 -1.82748258e-01  1.12881087e-01\n",
      "  -2.59671420e-01 -1.35043440e-02 -6.68533325e-01 -2.03683138e-01\n",
      "  -2.16500938e-01 -2.79963851e-01  1.59186125e+00 -1.87725782e-01\n",
      "   1.89642683e-01  1.55967042e-01  4.16798651e-01  9.66801345e-02\n",
      "  -2.40450814e-01 -1.16590805e-01 -1.14795260e-01  4.29237559e-02\n",
      "  -4.73681033e-01  7.16849193e-02  2.50392228e-01  1.89284921e-01\n",
      "  -2.88482875e-01 -4.62570757e-01 -9.66727287e-02  1.46315530e-01\n",
      "   1.21226728e-01 -3.46949130e-01  7.12199211e-02 -8.51136595e-02\n",
      "   7.80209452e-02  2.25651383e-01 -1.29350036e-01  9.23099160e-01\n",
      "   8.25923324e-01  8.33862066e-01  7.28768110e-03 -3.30062896e-01\n",
      "   4.02614653e-01 -1.35184571e-01  1.44619152e-01 -1.16011485e-01\n",
      "  -1.65979564e-01  2.18295217e+00  3.91099229e-02 -4.82059360e-01\n",
      "  -2.08259374e-01 -9.27694291e-02  3.86782765e-01  1.57949701e-01\n",
      "  -4.86991525e-01  7.28243142e-02 -3.95670049e-02  4.22355741e-01\n",
      "  -4.68986556e-02 -1.08745977e-01 -2.88494825e-01 -2.38136910e-02\n",
      "  -3.01644146e-01 -2.34212309e-01  3.71351063e-01 -5.93191266e-01\n",
      "  -1.51401252e-01 -4.65043008e-01  1.41657114e-01  1.89411387e-01\n",
      "  -1.42092243e-01  2.51931027e-02  9.16764140e-04 -9.25554335e-02\n",
      "  -1.15405723e-01  9.19290408e-02  7.75499463e-01 -1.01759724e-01\n",
      "   1.28047675e-01 -4.58368361e-02  1.42980352e-01 -1.81515038e-01\n",
      "   7.96116889e-04  8.95117104e-01  2.22058415e-01 -2.75394946e-01\n",
      "   9.67242479e-01 -3.08182538e-01 -2.97379434e-01  2.49591738e-01\n",
      "  -1.23114541e-01  1.65393669e-03 -2.48504788e-01 -1.19501367e-01\n",
      "  -9.32864994e-02  2.64224648e-01  1.92920715e-01  8.70001763e-02\n",
      "   1.80805951e-01  5.79421699e-01  3.27078849e-02 -3.11739862e-01\n",
      "   7.20773578e-01  2.69016683e-01 -4.47109818e-01  6.85800165e-02\n",
      "   1.44182742e-01 -3.20921183e-01 -2.64523476e-01 -6.22092903e-01\n",
      "  -7.32221976e-02  2.64227569e-01  2.98519768e-02  4.07084018e-01\n",
      "  -5.34988940e-01  1.00411344e+00 -5.72392046e-01 -4.97924834e-02\n",
      "   2.29632631e-01  1.56375900e-01 -5.57775795e-01 -4.63113338e-01\n",
      "  -8.28313380e-02  5.21617532e-02  7.46161759e-01  8.33119825e-02\n",
      "   4.95663345e-01 -1.36505991e-01  1.12930489e+00  9.20580477e-02\n",
      "   2.61098444e-02  2.43601114e-01 -1.85448602e-01 -8.09046254e-02\n",
      "   6.22706950e-01  2.45442241e-01  4.18001086e-01  3.29937309e-01\n",
      "   9.67196748e-03 -8.67954716e-02 -4.45222765e-01  2.90288597e-01\n",
      "   5.79377830e-01  7.43363619e-01 -3.05268168e-01 -4.04524416e-01\n",
      "   4.68548328e-01 -1.64306909e-03  7.12510198e-02  1.80714935e-01\n",
      "  -3.55464816e-01 -1.91480637e-01  1.88568011e-02 -1.10709846e-01\n",
      "  -1.67536700e+00 -2.65703142e-01  1.71054080e-02  1.29928604e-01\n",
      "   1.61720073e+00  3.13617647e-01  5.93011081e-03 -3.78588825e-01\n",
      "   1.21823117e-01  9.09331515e-02  3.38974565e-01 -1.87853381e-01\n",
      "   1.25007182e-02 -1.98682114e-01  6.20138869e-02  3.95246297e-01\n",
      "   1.76775739e-01 -2.78286189e-01  5.17672487e-02 -1.13070540e-01\n",
      "  -2.96655327e-01  1.77612230e-01 -1.49038613e-01  1.55104995e-01\n",
      "   1.15911275e-01 -1.02615327e-01 -2.66601294e-01 -1.76651999e-01\n",
      "  -4.86703783e-01  3.32073063e-01  5.17126173e-04  1.65618956e-01\n",
      "   9.78457332e-02 -2.84076422e-01 -3.94626677e-01 -2.58338094e-01\n",
      "   1.09258056e-01  1.39056295e-01  1.01709522e-01 -1.48375295e-02\n",
      "  -4.83482391e-01  3.95372957e-01 -3.28318536e-01 -6.61762729e-02\n",
      "   5.76793671e-01 -4.53533888e-01  1.84949398e-01 -3.05767179e-01\n",
      "  -9.74259824e-02  2.17455029e-01  1.68720126e-01 -1.59087628e-01\n",
      "  -1.78126782e-01  2.61477008e-02 -4.21681479e-02  1.27931938e-01\n",
      "   1.58012912e-01  6.14915192e-02 -1.93623587e-01 -8.82040933e-02\n",
      "   1.47754520e-01 -9.09891963e-01  6.12410605e-01  6.50943369e-02\n",
      "   4.59803082e-02 -2.22894132e-01 -6.07162118e-01 -2.60512263e-01\n",
      "  -2.54403919e-01 -1.46963552e-01  1.33980513e-01  2.46840671e-01\n",
      "  -1.09827161e-01  7.62123689e-02  2.55999029e-01 -2.01395005e-01\n",
      "   1.37503862e-01 -3.37446854e-02 -2.77383495e-02  2.47302383e-01\n",
      "   8.12802836e-03  9.16063964e-01 -3.04612219e-01  3.42740059e-01]], shape=(1, 512), dtype=float32)\n"
     ]
    }
   ],
   "source": [
    "# load one image from disk\n",
    "image = Image.open(fp=all_images[0], mode=\"r\")\n",
    "\n",
    "# process one image\n",
    "processed_image = processor(\n",
    "    images=image,\n",
    "    text=None,\n",
    "    return_tensors=\"tf\"\n",
    ")[\"pixel_values\"]\n",
    "\n",
    "print(\"input image shape: \", processed_image.shape)\n",
    "\n",
    "# embed image\n",
    "image_embedding = model.get_image_features(processed_image)\n",
    "\n",
    "print(\"image embeddings shape: \", image_embedding.shape)\n",
    "print(image_embedding)"
   ]
  },
  {
   "cell_type": "markdown",
   "metadata": {},
   "source": [
    "* Let's embed dummy text"
   ]
  },
  {
   "cell_type": "code",
   "execution_count": 17,
   "metadata": {},
   "outputs": [
    {
     "name": "stdout",
     "output_type": "stream",
     "text": [
      "[49406   736 14907 49407]\n",
      "(1, 512)\n"
     ]
    }
   ],
   "source": [
    "input_search = \"red tshirt\"\n",
    "\n",
    "# tokenize input text\n",
    "processed_text = processor(\n",
    "    text=input_search,\n",
    "    images=None,\n",
    "    return_tensors=\"tf\",\n",
    "    padding=True,\n",
    "    truncation=True\n",
    ")\n",
    "\n",
    "print(processed_text[\"input_ids\"][0].numpy())\n",
    "\n",
    "# embed tokens\n",
    "text_embeddings = model.get_text_features(**processed_text)\n",
    "\n",
    "print(text_embeddings.numpy().shape)\n",
    "\n",
    "# get embeddings\n",
    "# text_embedding = tf.reduce_mean(text_embeddings.last_hidden_state, axis=1).numpy().tolist()\n",
    "\n",
    "# text_embedding"
   ]
  },
  {
   "cell_type": "markdown",
   "metadata": {},
   "source": [
    "* let's embed all images"
   ]
  },
  {
   "cell_type": "code",
   "execution_count": 79,
   "metadata": {},
   "outputs": [
    {
     "name": "stderr",
     "output_type": "stream",
     "text": [
      "embedding all images: 100%|██████████| 200/200 [00:40<00:00,  4.89it/s]\n"
     ]
    }
   ],
   "source": [
    "images_embeddings = list()\n",
    "\n",
    "# loop over all images in folder\n",
    "for idx, img in tqdm(\n",
    "    iterable=enumerate(all_images[:200]), # take only 200 images for the sake of simpilicity\n",
    "    desc=\"embedding all images\",\n",
    "    total=len(all_images[:200]), \n",
    "\n",
    "):\n",
    "    # load image from disk\n",
    "    image = Image.open(\n",
    "        fp=img,\n",
    "        mode=\"r\"\n",
    "    )\n",
    "\n",
    "    # process image image\n",
    "    processed_image = processor(\n",
    "    images=image,\n",
    "    text=None,\n",
    "    return_tensors=\"tf\"\n",
    "    )[\"pixel_values\"]\n",
    "\n",
    "    # embed image (latent vectors)\n",
    "    image_embedding = np.squeeze(model.get_image_features(processed_image).numpy()) # convert from eager tensor to numpy\n",
    "\n",
    "    # append to list\n",
    "    images_embeddings.append({\"id\":idx, \"embedding\":image_embedding, \"dir\":{\"dir\":img}})"
   ]
  },
  {
   "cell_type": "code",
   "execution_count": 80,
   "metadata": {},
   "outputs": [
    {
     "data": {
      "text/html": [
       "<div>\n",
       "<style scoped>\n",
       "    .dataframe tbody tr th:only-of-type {\n",
       "        vertical-align: middle;\n",
       "    }\n",
       "\n",
       "    .dataframe tbody tr th {\n",
       "        vertical-align: top;\n",
       "    }\n",
       "\n",
       "    .dataframe thead th {\n",
       "        text-align: right;\n",
       "    }\n",
       "</style>\n",
       "<table border=\"1\" class=\"dataframe\">\n",
       "  <thead>\n",
       "    <tr style=\"text-align: right;\">\n",
       "      <th></th>\n",
       "      <th>id</th>\n",
       "      <th>embedding</th>\n",
       "      <th>dir</th>\n",
       "    </tr>\n",
       "  </thead>\n",
       "  <tbody>\n",
       "    <tr>\n",
       "      <th>0</th>\n",
       "      <td>0</td>\n",
       "      <td>[0.09056808, 0.03274309, 0.029826514, 0.344645...</td>\n",
       "      <td>{'dir': '../data/raw/02532_00.jpg'}</td>\n",
       "    </tr>\n",
       "    <tr>\n",
       "      <th>1</th>\n",
       "      <td>1</td>\n",
       "      <td>[0.052449428, 0.19420756, 0.124062635, 0.01250...</td>\n",
       "      <td>{'dir': '../data/raw/04718_00.jpg'}</td>\n",
       "    </tr>\n",
       "    <tr>\n",
       "      <th>2</th>\n",
       "      <td>2</td>\n",
       "      <td>[0.09634906, -0.25596958, -0.27667934, 0.22772...</td>\n",
       "      <td>{'dir': '../data/raw/05638_00.jpg'}</td>\n",
       "    </tr>\n",
       "    <tr>\n",
       "      <th>3</th>\n",
       "      <td>3</td>\n",
       "      <td>[0.18320513, 0.13055275, 0.051832553, 0.377668...</td>\n",
       "      <td>{'dir': '../data/raw/12824_00.jpg'}</td>\n",
       "    </tr>\n",
       "    <tr>\n",
       "      <th>4</th>\n",
       "      <td>4</td>\n",
       "      <td>[0.0447726, 0.042324282, 0.1539196, -0.1050425...</td>\n",
       "      <td>{'dir': '../data/raw/00906_00.jpg'}</td>\n",
       "    </tr>\n",
       "    <tr>\n",
       "      <th>...</th>\n",
       "      <td>...</td>\n",
       "      <td>...</td>\n",
       "      <td>...</td>\n",
       "    </tr>\n",
       "    <tr>\n",
       "      <th>195</th>\n",
       "      <td>195</td>\n",
       "      <td>[-0.090003386, -0.07768246, 0.07326353, 0.3402...</td>\n",
       "      <td>{'dir': '../data/raw/08903_00.jpg'}</td>\n",
       "    </tr>\n",
       "    <tr>\n",
       "      <th>196</th>\n",
       "      <td>196</td>\n",
       "      <td>[0.06347422, 0.29872894, -0.08681728, 0.093796...</td>\n",
       "      <td>{'dir': '../data/raw/07235_00.jpg'}</td>\n",
       "    </tr>\n",
       "    <tr>\n",
       "      <th>197</th>\n",
       "      <td>197</td>\n",
       "      <td>[-0.0038751531, 0.090236224, 0.024033051, 0.08...</td>\n",
       "      <td>{'dir': '../data/raw/02948_00.jpg'}</td>\n",
       "    </tr>\n",
       "    <tr>\n",
       "      <th>198</th>\n",
       "      <td>198</td>\n",
       "      <td>[0.13124095, 0.33271495, -0.0060832947, -0.082...</td>\n",
       "      <td>{'dir': '../data/raw/06997_00.jpg'}</td>\n",
       "    </tr>\n",
       "    <tr>\n",
       "      <th>199</th>\n",
       "      <td>199</td>\n",
       "      <td>[0.29702353, -0.07964487, -0.18464081, 0.41763...</td>\n",
       "      <td>{'dir': '../data/raw/08335_00.jpg'}</td>\n",
       "    </tr>\n",
       "  </tbody>\n",
       "</table>\n",
       "<p>200 rows × 3 columns</p>\n",
       "</div>"
      ],
      "text/plain": [
       "      id                                          embedding  \\\n",
       "0      0  [0.09056808, 0.03274309, 0.029826514, 0.344645...   \n",
       "1      1  [0.052449428, 0.19420756, 0.124062635, 0.01250...   \n",
       "2      2  [0.09634906, -0.25596958, -0.27667934, 0.22772...   \n",
       "3      3  [0.18320513, 0.13055275, 0.051832553, 0.377668...   \n",
       "4      4  [0.0447726, 0.042324282, 0.1539196, -0.1050425...   \n",
       "..   ...                                                ...   \n",
       "195  195  [-0.090003386, -0.07768246, 0.07326353, 0.3402...   \n",
       "196  196  [0.06347422, 0.29872894, -0.08681728, 0.093796...   \n",
       "197  197  [-0.0038751531, 0.090236224, 0.024033051, 0.08...   \n",
       "198  198  [0.13124095, 0.33271495, -0.0060832947, -0.082...   \n",
       "199  199  [0.29702353, -0.07964487, -0.18464081, 0.41763...   \n",
       "\n",
       "                                     dir  \n",
       "0    {'dir': '../data/raw/02532_00.jpg'}  \n",
       "1    {'dir': '../data/raw/04718_00.jpg'}  \n",
       "2    {'dir': '../data/raw/05638_00.jpg'}  \n",
       "3    {'dir': '../data/raw/12824_00.jpg'}  \n",
       "4    {'dir': '../data/raw/00906_00.jpg'}  \n",
       "..                                   ...  \n",
       "195  {'dir': '../data/raw/08903_00.jpg'}  \n",
       "196  {'dir': '../data/raw/07235_00.jpg'}  \n",
       "197  {'dir': '../data/raw/02948_00.jpg'}  \n",
       "198  {'dir': '../data/raw/06997_00.jpg'}  \n",
       "199  {'dir': '../data/raw/08335_00.jpg'}  \n",
       "\n",
       "[200 rows x 3 columns]"
      ]
     },
     "execution_count": 80,
     "metadata": {},
     "output_type": "execute_result"
    }
   ],
   "source": [
    "# convert result as dataframe\n",
    "df = pd.DataFrame.from_dict(images_embeddings)\n",
    "df"
   ]
  },
  {
   "cell_type": "markdown",
   "metadata": {},
   "source": [
    "* Now we have all of our image embeddings and metadata/payload (dir).\n",
    "* Let's create vector database so we can search by text and image."
   ]
  },
  {
   "cell_type": "code",
   "execution_count": 81,
   "metadata": {},
   "outputs": [
    {
     "data": {
      "text/plain": [
       "<qdrant_client.qdrant_client.QdrantClient at 0x7fb32db22990>"
      ]
     },
     "execution_count": 81,
     "metadata": {},
     "output_type": "execute_result"
    }
   ],
   "source": [
    "# connect to qdrant\n",
    "vector_db_client = QdrantClient(\n",
    "    host=\"localhost\",\n",
    "    port=6333\n",
    ")\n",
    "\n",
    "vector_db_client"
   ]
  },
  {
   "cell_type": "code",
   "execution_count": 82,
   "metadata": {},
   "outputs": [
    {
     "data": {
      "text/plain": [
       "True"
      ]
     },
     "execution_count": 82,
     "metadata": {},
     "output_type": "execute_result"
    }
   ],
   "source": [
    "# create a collection to save embeddings\n",
    "vector_db_client.recreate_collection(\n",
    "    collection_name=\"images_embeddings\",\n",
    "    vectors_config=models.VectorParams(\n",
    "        size=512, # size of embeddings\n",
    "        distance=models.Distance.COSINE # similarity criteria\n",
    "    )\n",
    ")"
   ]
  },
  {
   "cell_type": "code",
   "execution_count": 84,
   "metadata": {},
   "outputs": [
    {
     "data": {
      "text/plain": [
       "UpdateResult(operation_id=0, status=<UpdateStatus.COMPLETED: 'completed'>)"
      ]
     },
     "execution_count": 84,
     "metadata": {},
     "output_type": "execute_result"
    }
   ],
   "source": [
    "# insert/update (if exist) embeddings to Qdrant\n",
    "vector_db_client.upsert(\n",
    "    collection_name=\"images_embeddings\",\n",
    "    points=models.Batch(\n",
    "        ids=df[\"id\"],\n",
    "        vectors=df[\"embedding\"],\n",
    "        payloads=df[\"dir\"]\n",
    "    )\n",
    ")"
   ]
  },
  {
   "cell_type": "code",
   "execution_count": 86,
   "metadata": {},
   "outputs": [
    {
     "data": {
      "text/plain": [
       "([Record(id=0, payload={'dir': '../data/raw/02532_00.jpg'}, vector=[0.008358832, 0.0030219697, 0.0027527893, 0.03180849, 0.015134676, 0.03822833, -0.007819164, 0.02501529, 0.080731325, 0.011495365, 0.012717142, 0.00540033, -0.014537298, -0.0017951002, -0.0016104416, 0.015987633, -0.004312588, 0.00014482574, 0.005019323, -0.008057707, -0.04723083, -0.007544858, 0.035712216, -0.003480618, -0.008298881, 0.028563093, -0.02691114, -0.032858647, -0.01939711, -0.06541133, 0.00021452416, 0.0014577757, -0.040764783, -0.011077381, -0.003933623, 0.010791924, -0.024658184, 0.019543111, 0.0050193523, 0.16877168, 0.03273001, 0.009318346, -0.018948149, -0.03345751, 0.0101232, -0.14598592, 0.0080007445, 0.005512283, 0.01623048, -0.024769053, 0.07034192, -0.014776215, -0.015379278, -0.029280685, -0.060504597, 0.04665395, 0.00489241, -0.00425574, -0.00027224957, 0.0510562, 0.00507128, -0.03241646, -0.010778048, -0.0010659652, -0.01672149, 0.013339686, 0.01579125, -0.06801225, -0.030280223, -0.012843705, -0.022040386, -0.0030592903, -0.027546309, -0.051846154, -0.030647095, -0.0092256935, 0.0060555083, -0.02520034, -0.0069730785, 0.026467165, -0.035030227, -0.06376755, -0.036061138, -0.010660072, 0.044049103, 0.0066134534, -0.011594764, -0.0141795, 0.00057411956, -0.016409772, 0.042369377, 0.014352045, -0.6174234, 0.050313696, 0.010585484, 0.051497713, -0.0030065482, -0.053896606, -0.020663604, 0.063477166, -0.02242689, -0.04308875, 0.03208231, 0.017675186, -0.02047971, 0.002332534, 0.052236468, -0.011398788, 0.013993169, 0.0034572824, -0.018877827, 0.035950962, -0.009612972, -0.016397737, 0.0152031705, 0.015735118, -0.045162853, 0.03290546, -0.007123816, 0.050619613, 0.03795874, -0.010578991, -0.023953581, -0.03829017, -0.031190678, -0.027221475, -0.03365115, 0.019001635, 0.020123519, -0.0053881537, 0.023376383, 0.04340379, -0.0075833104, 0.0763968, 0.030962033, 0.025322227, -0.010653117, 0.016916359, 0.0041832947, -0.005081696, 0.017419355, -0.018766753, -0.011715985, -0.00024848562, -0.06712069, -0.0004025474, -0.021206178, 0.05593533, 0.0041283784, 0.0037843059, -0.0021723947, -0.0066658733, 0.08432843, -0.0005950775, 0.0040047998, 0.040350717, 0.03555275, 0.042541817, 0.013494702, 0.021839038, -0.0032116682, 0.017620059, 0.048650008, 0.03300886, -0.010818137, -0.0416976, 0.026490966, -0.01737063, -0.012606215, -0.029228933, -0.023470482, 0.01850597, 0.021966008, -0.022979703, 0.0143682035, -0.012592994, 0.026757581, -0.02189292, -0.040520415, -0.030976385, 0.09838669, 0.021340916, 0.01273103, -0.024516605, -0.026970765, 0.02380534, 0.0015011188, -0.009643273, -0.030185174, -0.010619347, 0.007296411, 0.003328086, 0.026047176, 0.034950603, 0.040038913, -0.0066373185, 0.051681284, 0.00025201356, 0.027404917, -0.0078510055, -0.0019540682, -0.019285588, 0.00773257, 0.022108786, -0.0011560248, -0.009336953, -0.058187496, -0.043547817, -0.02313264, 0.047713794, -0.012844541, 0.09873414, 0.05030634, -0.02630498, -0.05342989, -0.005849416, -0.001615231, 0.032270197, 0.04960699, -0.01642194, -0.029402148, -0.0513658, -0.030801984, -0.000106767664, 0.039850436, -0.015524394, 0.030774156, -0.019393794, -0.022589846, 0.008403454, -0.0006832135, -0.02429871, -0.021154337, 0.006022787, -0.0039196145, -0.034656033, 0.020279724, -0.022093361, 0.0069225905, 0.019949688, 0.012409703, 0.04137872, 0.00045878312, -0.055391908, 0.009039365, -0.05414704, -0.02712923, 0.027751457, 0.009109676, -0.012543185, -0.013211933, -0.0153416, -0.020452023, -0.002283978, 0.0018694034, 0.05810322, -0.0351928, 0.016212571, -0.096942805, 0.015238671, 0.026185276, -0.008486848, -0.017972883, -0.02860983, 0.025153114, -0.010008279, -0.018052181, 0.019014275, 0.035411246, -0.005799147, -0.018164301, 0.041548423, 0.057691596, -0.016351402, 0.006660296, -0.00068443577, -0.033841964, -0.018485494, -0.016866451, 0.010418175, -0.02396595, -0.0012463613, -0.06170119, -0.0187986, -0.0199816, -0.025838805, 0.14691822, -0.017325845, 0.01750276, 0.014394723, 0.03846775, 0.0089229345, -0.022192014, -0.010760558, -0.01059484, 0.003961578, -0.043717615, 0.0066160425, 0.02310954, 0.017469741, -0.026625054, -0.04269221, -0.008922251, 0.013503952, 0.011188422, -0.0320211, 0.006573126, -0.007855426, 0.0072008152, 0.020826126, -0.01193815, 0.08519593, 0.07622724, 0.07695994, 0.0006726046, -0.030462615, 0.03715866, -0.012476639, 0.013347388, -0.01070709, -0.015318812, 0.201472, 0.0036095863, -0.04449088, -0.019220958, -0.008562002, 0.035697483, 0.014577709, -0.044946086, 0.006721201, -0.003651772, 0.038980633, -0.004328435, -0.010036532, -0.026626159, -0.0021978456, -0.027839752, -0.021616241, 0.034273237, -0.054747615, -0.013973331, -0.042920385, 0.013074012, 0.017481415, -0.013114171, 0.0023251562, 8.4611245e-05, -0.008542252, -0.010651182, 0.00848444, 0.07157345, -0.009391747, 0.011817951, -0.004230436, 0.013196138, -0.016752634, 7.34763e-05, 0.08261337, 0.020494519, -0.025417125, 0.08927006, -0.028443202, -0.027446149, 0.02303566, -0.011362655, 0.00015264738, -0.022935342, -0.011029183, -0.008609725, 0.02438618, 0.0178053, 0.008029539, 0.01668719, 0.053476777, 0.0030187208, -0.02877152, 0.06652262, 0.024828454, -0.041265268, 0.0063294806, 0.01330711, -0.029618895, -0.02441376, -0.057415046, -0.006757923, 0.02438645, 0.0027551393, 0.037571155, -0.04937593, 0.092673, -0.052827988, -0.004595516, 0.021193568, 0.014432457, -0.051479004, -0.042742286, -0.007644783, 0.004814184, 0.068865776, 0.007689143, 0.04574644, -0.012598597, 0.10422735, 0.008496347, 0.0024097653, 0.022482766, -0.017115675, -0.0074669598, 0.05747172, 0.02265269, 0.038578726, 0.030451024, 0.0008926584, -0.008010646, -0.041091107, 0.02679171, 0.053472728, 0.06860753, -0.028174225, -0.03733492, 0.0432439, -0.00015164437, 0.006575996, 0.01667879, -0.032807045, -0.017672392, 0.0017403576, -0.010217784, -0.15462525, -0.024522636, 0.0015787156, 0.011991547, 0.1492569, 0.028944828, 0.0005473099, -0.034941237, 0.011243465, 0.008392527, 0.031285103, -0.01733762, 0.0011537333, -0.018337041, 0.0057234704, 0.03647861, 0.016315227, -0.025683967, 0.0047777733, -0.01043566, -0.027379317, 0.01639243, -0.013755275, 0.014315162, 0.010697842, -0.009470713, -0.02460553, -0.016303807, -0.044919528, 0.03064814, 4.7727313e-05, 0.01528553, 0.009030512, -0.026218368, -0.036421422, -0.023842892, 0.010083794, 0.012833973, 0.009387114, -0.0013694055, -0.044622216, 0.0364903, -0.030301621, -0.0061076307, 0.053234227, -0.041858166, 0.017069602, -0.028220281, -0.008991771, 0.020069657, 0.015571748, -0.0146827325, -0.01643992, 0.0024132594, -0.00389184, 0.0118072685, 0.014583543, 0.005675259, -0.017870173, -0.008140652, 0.013636761, -0.08397699, 0.056521434, 0.006007775, 0.0042436775, -0.02057165, -0.056037035, -0.024043553, -0.023479793, -0.013563761, 0.012365513, 0.022781756, -0.010136318, 0.0070338957, 0.023627011, -0.018587422, 0.012690694, -0.0031144104, -0.0025600656, 0.02282437, 0.00075016305, 0.084546626, -0.028113686, 0.031632632], shard_key=None)],\n",
       " 1)"
      ]
     },
     "execution_count": 86,
     "metadata": {},
     "output_type": "execute_result"
    }
   ],
   "source": [
    "# sanity check to make sure that data inserted to collection\n",
    "vector_db_client.scroll(\n",
    "    collection_name=\"images_embeddings\",\n",
    "    limit=1,\n",
    "    with_payload=True,\n",
    "    with_vectors=True\n",
    ")"
   ]
  },
  {
   "cell_type": "markdown",
   "metadata": {},
   "source": [
    "* Now let's try to seach by image"
   ]
  },
  {
   "cell_type": "code",
   "execution_count": 89,
   "metadata": {},
   "outputs": [],
   "source": [
    "# dummy image from dataset\n",
    "image_query = Image.open(\n",
    "    fp=\"../data/raw/14415_00.jpg\",\n",
    "    mode=\"r\"\n",
    ")\n",
    "\n",
    "# preprocess image\n",
    "processed_image = processor(\n",
    "    images=image_query,\n",
    "    text=None,\n",
    "    return_tensors=\"tf\"\n",
    ")[\"pixel_values\"]\n",
    "\n",
    "# image embedding\n",
    "image_embedding = np.squeeze(model.get_image_features(processed_image).numpy())\n",
    "\n",
    "# search for image\n",
    "result = vector_db_client.search(\n",
    "    collection_name=\"images_embeddings\",\n",
    "    query_vector=image_embedding,\n",
    "    limit=5\n",
    ")"
   ]
  },
  {
   "cell_type": "markdown",
   "metadata": {},
   "source": [
    "* Let's show results"
   ]
  },
  {
   "cell_type": "code",
   "execution_count": 105,
   "metadata": {},
   "outputs": [],
   "source": [
    "# get the directorys of each image\n",
    "dirs = [dir.payload[\"dir\"] for dir in result]\n",
    "\n",
    "# the query image \n",
    "dirs.append(\"../data/raw/14415_00.jpg\")\n",
    "\n",
    "# read images from disk\n",
    "images = [Image.open(fp=img, mode=\"r\") for img in dirs]\n",
    "\n",
    "# stack resized images (to be more conveniet to show) \n",
    "images = np.hstack([image.resize(size=(128,256)) for image in images])\n",
    "\n",
    "# show images\n",
    "images = Image.fromarray(images)\n",
    "images.show(title=\"the right most image is the query image\")"
   ]
  },
  {
   "cell_type": "markdown",
   "metadata": {},
   "source": [
    "* Now let's use clip model to search for red t-shirt"
   ]
  },
  {
   "cell_type": "code",
   "execution_count": 112,
   "metadata": {},
   "outputs": [],
   "source": [
    "text_query = \"red t-shirt\"\n",
    "\n",
    "# tokenize input text\n",
    "processed_text = processor(\n",
    "    text=input_search,\n",
    "    images=None,\n",
    "    return_tensors=\"tf\",\n",
    "    padding=True,\n",
    "    truncation=True\n",
    ")\n",
    "\n",
    "# embed tokens\n",
    "text_embedding = model.get_text_features(**processed_text)\n",
    "\n",
    "text_embedding = np.squeeze(text_embedding.numpy())\n",
    "\n",
    "# search for image\n",
    "result = vector_db_client.search(\n",
    "    collection_name=\"images_embeddings\",\n",
    "    query_vector=text_embedding,\n",
    "    limit=5\n",
    ")"
   ]
  },
  {
   "cell_type": "markdown",
   "metadata": {},
   "source": [
    "* Let's show the result"
   ]
  },
  {
   "cell_type": "code",
   "execution_count": 113,
   "metadata": {},
   "outputs": [],
   "source": [
    "# get the directorys of each image\n",
    "dirs = [dir.payload[\"dir\"] for dir in result]\n",
    "\n",
    "# read images from disk\n",
    "images = [Image.open(fp=img, mode=\"r\") for img in dirs]\n",
    "\n",
    "# stack resized images (to be more conveniet to show) \n",
    "images = np.hstack([image.resize(size=(128,256)) for image in images])\n",
    "\n",
    "# show images\n",
    "images = Image.fromarray(images)\n",
    "images.show()"
   ]
  },
  {
   "cell_type": "markdown",
   "metadata": {},
   "source": [
    "* Okay that was amazing :D\n",
    "* Now lets build streamlit app"
   ]
  }
 ],
 "metadata": {
  "kernelspec": {
   "display_name": "venv",
   "language": "python",
   "name": "python3"
  },
  "language_info": {
   "codemirror_mode": {
    "name": "ipython",
    "version": 3
   },
   "file_extension": ".py",
   "mimetype": "text/x-python",
   "name": "python",
   "nbconvert_exporter": "python",
   "pygments_lexer": "ipython3",
   "version": "3.11.2"
  }
 },
 "nbformat": 4,
 "nbformat_minor": 2
}
